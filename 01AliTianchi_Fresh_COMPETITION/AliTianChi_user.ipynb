{
 "cells": [
  {
   "cell_type": "code",
   "execution_count": 1,
   "metadata": {
    "collapsed": true
   },
   "outputs": [],
   "source": [
    "import pandas as pd\n",
    "from pandas import Series,DataFrame\n",
    "import seaborn as sns\n",
    "import numpy as np\n",
    "import matplotlib.pyplot as plt\n",
    "sns.set_style('whitegrid')\n",
    "%matplotlib inline\n",
    "rs = np.random.RandomState(10)"
   ]
  },
  {
   "cell_type": "code",
   "execution_count": 2,
   "metadata": {
    "collapsed": false
   },
   "outputs": [
    {
     "data": {
      "text/html": [
       "<div>\n",
       "<table border=\"1\" class=\"dataframe\">\n",
       "  <thead>\n",
       "    <tr style=\"text-align: right;\">\n",
       "      <th></th>\n",
       "      <th>user_id</th>\n",
       "      <th>item_id</th>\n",
       "      <th>item_category</th>\n",
       "      <th>date</th>\n",
       "      <th>hour</th>\n",
       "      <th>view</th>\n",
       "      <th>favor</th>\n",
       "      <th>addcar</th>\n",
       "      <th>buy</th>\n",
       "    </tr>\n",
       "  </thead>\n",
       "  <tbody>\n",
       "    <tr>\n",
       "      <th>0</th>\n",
       "      <td>10001082</td>\n",
       "      <td>285259775</td>\n",
       "      <td>4076</td>\n",
       "      <td>2014-12-08</td>\n",
       "      <td>18</td>\n",
       "      <td>1</td>\n",
       "      <td>0</td>\n",
       "      <td>0</td>\n",
       "      <td>0</td>\n",
       "    </tr>\n",
       "    <tr>\n",
       "      <th>1</th>\n",
       "      <td>10001082</td>\n",
       "      <td>4368907</td>\n",
       "      <td>5503</td>\n",
       "      <td>2014-12-12</td>\n",
       "      <td>12</td>\n",
       "      <td>1</td>\n",
       "      <td>0</td>\n",
       "      <td>0</td>\n",
       "      <td>0</td>\n",
       "    </tr>\n",
       "    <tr>\n",
       "      <th>2</th>\n",
       "      <td>10001082</td>\n",
       "      <td>4368907</td>\n",
       "      <td>5503</td>\n",
       "      <td>2014-12-12</td>\n",
       "      <td>12</td>\n",
       "      <td>1</td>\n",
       "      <td>0</td>\n",
       "      <td>0</td>\n",
       "      <td>0</td>\n",
       "    </tr>\n",
       "    <tr>\n",
       "      <th>3</th>\n",
       "      <td>10001082</td>\n",
       "      <td>53616768</td>\n",
       "      <td>9762</td>\n",
       "      <td>2014-12-02</td>\n",
       "      <td>15</td>\n",
       "      <td>1</td>\n",
       "      <td>0</td>\n",
       "      <td>0</td>\n",
       "      <td>0</td>\n",
       "    </tr>\n",
       "    <tr>\n",
       "      <th>4</th>\n",
       "      <td>10001082</td>\n",
       "      <td>151466952</td>\n",
       "      <td>5232</td>\n",
       "      <td>2014-12-12</td>\n",
       "      <td>11</td>\n",
       "      <td>1</td>\n",
       "      <td>0</td>\n",
       "      <td>0</td>\n",
       "      <td>0</td>\n",
       "    </tr>\n",
       "  </tbody>\n",
       "</table>\n",
       "</div>"
      ],
      "text/plain": [
       "    user_id    item_id  item_category       date  hour  view  favor  addcar  \\\n",
       "0  10001082  285259775           4076 2014-12-08    18     1      0       0   \n",
       "1  10001082    4368907           5503 2014-12-12    12     1      0       0   \n",
       "2  10001082    4368907           5503 2014-12-12    12     1      0       0   \n",
       "3  10001082   53616768           9762 2014-12-02    15     1      0       0   \n",
       "4  10001082  151466952           5232 2014-12-12    11     1      0       0   \n",
       "\n",
       "   buy  \n",
       "0    0  \n",
       "1    0  \n",
       "2    0  \n",
       "3    0  \n",
       "4    0  "
      ]
     },
     "execution_count": 2,
     "metadata": {},
     "output_type": "execute_result"
    }
   ],
   "source": [
    "user_df=pd.read_csv('train_user.csv')\n",
    "def get_date(time):\n",
    "    date,hour=time.split(\" \")\n",
    "    return date\n",
    "def get_hour(time):\n",
    "    date,hour=time.split(\" \")\n",
    "    return hour\n",
    "user_df['date'] = user_df['time'].map(get_date)\n",
    "user_df['date'] = pd.to_datetime(user_df['date'])\n",
    "user_df['hour'] = user_df['time'].map(get_hour)\n",
    "user_df['hour'] = user_df['hour'].astype(int)\n",
    "behavior_type_dummies=pd.get_dummies(user_df['behavior_type'])\n",
    "behavior_type_dummies.columns=['view','favor','addcar','buy']\n",
    "user_df.drop(['behavior_type','time','user_geohash'],axis=1,inplace=True)\n",
    "user_df=user_df.join(behavior_type_dummies)\n",
    "user_df.head()"
   ]
  },
  {
   "cell_type": "code",
   "execution_count": 3,
   "metadata": {
    "collapsed": false,
    "scrolled": true
   },
   "outputs": [],
   "source": [
    "#先采样出在18号买了的与没有买的用户\n",
    "month_detail=user_df[['user_id','item_id','date','view','favor','addcar','buy']].groupby(['user_id','item_id','date'],as_index=False).sum()\n",
    "day18_positive=month_detail[['user_id']][(month_detail.date=='2014-12-18')&(month_detail.buy!=0)].drop_duplicates()\n",
    "day18_negative=month_detail[['user_id']][(month_detail.date=='2014-12-18')&(month_detail.buy==0)].drop_duplicates().sample(n=3053)"
   ]
  },
  {
   "cell_type": "code",
   "execution_count": 4,
   "metadata": {
    "collapsed": false
   },
   "outputs": [
    {
     "data": {
      "text/plain": [
       "<matplotlib.axes._subplots.AxesSubplot at 0x20c49b5db70>"
      ]
     },
     "execution_count": 4,
     "metadata": {},
     "output_type": "execute_result"
    },
    {
     "data": {
      "image/png": "[encoded data removed]",
      "text/plain": [
       "<matplotlib.figure.Figure at 0x20c172c1b38>"
      ]
     },
     "metadata": {},
     "output_type": "display_data"
    }
   ],
   "source": [
    "user_active_totaldays=user_df[['user_id','date']].drop_duplicates().groupby('user_id',as_index=False).count()\n",
    "\n",
    "day18_buy_active_totaldays=day18_positive.merge(user_active_totaldays,how='left',on=['user_id'],)\n",
    "day18_notbuy_active_totaldays=day18_negative.merge(user_active_totaldays,how='left',on=['user_id'],)\n",
    "\n",
    "avgerage_active_totaldays = DataFrame([day18_notbuy_active_totaldays.date.mean(),day18_buy_active_totaldays.date.mean()])\n",
    "std_active_totaldays      = DataFrame([day18_notbuy_active_totaldays.date.std(),day18_buy_active_totaldays.date.std()])\n",
    "\n",
    "avgerage_active_totaldays.index.names = [\"day18_isBuy\"]\n",
    "avgerage_active_totaldays.plot(yerr=std_active_totaldays,kind='bar',legend=False)\n"
   ]
  },
  {
   "cell_type": "code",
   "execution_count": 5,
   "metadata": {
    "collapsed": false,
    "scrolled": true
   },
   "outputs": [
    {
     "data": {
      "text/plain": [
       "<matplotlib.axes._subplots.AxesSubplot at 0x20c1479cc18>"
      ]
     },
     "execution_count": 5,
     "metadata": {},
     "output_type": "execute_result"
    },
    {
     "data": {
      "image/png": "[encoded data removed]",
      "text/plain": [
       "<matplotlib.figure.Figure at 0x20c172c1cc0>"
      ]
     },
     "metadata": {},
     "output_type": "display_data"
    }
   ],
   "source": [
    "def binning(col, cut_points, labels=None):\n",
    "  #Define min and max values:\n",
    "  minval = col.min()\n",
    "  maxval = col.max()\n",
    "  #利用最大值和最小值创建分箱点的列表\n",
    "  break_points = [minval] + cut_points + [maxval]\n",
    "  #如果没有标签，则使用默认标签0 ... (n-1)\n",
    "  if not labels:\n",
    "    labels = range(len(cut_points)+1)\n",
    "  #使用pandas的cut功能分箱\n",
    "  colBin = pd.cut(col,bins=break_points,labels=labels,include_lowest=True)\n",
    "  return colBin\n",
    "\n",
    "cut_points = [3,6,9,12,15,18,21,24,27,30]\n",
    "labels = [\"1~3\",\"4~6\",\"7~9\",\"10~12\",\"13~15\",\"16~18\",\"19~21\",\"22~24\",\"25~27\",\"28~30\",\"30+\"]\n",
    "\n",
    "\n",
    "user_active_totaldays=user_df[['user_id','date']].drop_duplicates().groupby('user_id',as_index=False).count()\n",
    "day18_buy_active_totaldays=day18_positive.merge(user_active_totaldays,how='left',on=['user_id'],)\n",
    "day18_notbuy_active_totaldays=day18_negative.merge(user_active_totaldays,how='left',on=['user_id'],)\n",
    "\n",
    "day18_buy_active_totaldays[\"date_Bin\"] = binning(day18_buy_active_totaldays[\"date\"], cut_points, labels)\n",
    "day18_notbuy_active_totaldays[\"date_Bin\"] = binning(day18_notbuy_active_totaldays[\"date\"], cut_points, labels)\n",
    "\n",
    "day18_buy_active_totaldays=day18_buy_active_totaldays.groupby('date_Bin',as_index=False).count()\n",
    "day18_notbuy_active_totaldays=day18_notbuy_active_totaldays.groupby('date_Bin',as_index=False).count()\n",
    "\n",
    "sns.barplot(day18_buy_active_totaldays.date_Bin, day18_buy_active_totaldays.date,palette=\"Set1\")\n",
    "sns.barplot(day18_notbuy_active_totaldays.date_Bin, day18_notbuy_active_totaldays.date,palette=\"Set3\",alpha=.3)"
   ]
  },
  {
   "cell_type": "code",
   "execution_count": 6,
   "metadata": {
    "collapsed": false
   },
   "outputs": [
    {
     "data": {
      "text/plain": [
       "<matplotlib.axes._subplots.AxesSubplot at 0x20c172c1048>"
      ]
     },
     "execution_count": 6,
     "metadata": {},
     "output_type": "execute_result"
    },
    {
     "data": {
      "image/png": "[encoded data removed]",
      "text/plain": [
       "<matplotlib.figure.Figure at 0x20c172c1668>"
      ]
     },
     "metadata": {},
     "output_type": "display_data"
    }
   ],
   "source": [
    "def binning(col, cut_points, labels=None):\n",
    "  #Define min and max values:\n",
    "  minval = col.min()\n",
    "  maxval = col.max()\n",
    "  #利用最大值和最小值创建分箱点的列表\n",
    "  break_points = [minval] + cut_points + [maxval]\n",
    "  #如果没有标签，则使用默认标签0 ... (n-1)\n",
    "  if not labels:\n",
    "    labels = range(len(cut_points)+1)\n",
    "  #使用pandas的cut功能分箱\n",
    "  colBin = pd.cut(col,bins=break_points,labels=labels,include_lowest=True)\n",
    "  return colBin\n",
    "\n",
    "cut_points = [7,17,27]\n",
    "labels = [\"1~7\",\"8~17\",\"18~27\",\"28~31\"]\n",
    "\n",
    "\n",
    "user_active_totaldays=user_df[['user_id','date']].drop_duplicates().groupby('user_id',as_index=False).count()\n",
    "day18_buy_active_totaldays=day18_positive.merge(user_active_totaldays,how='left',on=['user_id'],)\n",
    "day18_notbuy_active_totaldays=day18_negative.merge(user_active_totaldays,how='left',on=['user_id'],)\n",
    "\n",
    "day18_buy_active_totaldays[\"date_Bin\"] = binning(day18_buy_active_totaldays[\"date\"], cut_points, labels)\n",
    "day18_notbuy_active_totaldays[\"date_Bin\"] = binning(day18_notbuy_active_totaldays[\"date\"], cut_points, labels)\n",
    "\n",
    "day18_buy_active_totaldays=day18_buy_active_totaldays.groupby('date_Bin',as_index=False).count()\n",
    "day18_notbuy_active_totaldays=day18_notbuy_active_totaldays.groupby('date_Bin',as_index=False).count()\n",
    "\n",
    "sns.barplot(day18_buy_active_totaldays.date_Bin, day18_buy_active_totaldays.date,palette=\"Set1\")\n",
    "sns.barplot(day18_notbuy_active_totaldays.date_Bin, day18_notbuy_active_totaldays.date,palette=\"Set3\",alpha=.3)"
   ]
  },
  {
   "cell_type": "markdown",
   "metadata": {
    "collapsed": false
   },
   "source": [
    "### 从以上可以看出，无论按总月、三天或者一星期进行统计用户活跃的天数都没有多大意义，当天是否购买的用户与没购买的用户在这个月内活跃天数数量上区分度不大\n",
    "--------------------------------------------------------------------------\n",
    "### 下面统计当天购买及未购买的用户的最后活跃日期"
   ]
  },
  {
   "cell_type": "code",
   "execution_count": 7,
   "metadata": {
    "collapsed": false
   },
   "outputs": [],
   "source": [
    "later_hot_day=user_df[['user_id','date']][user_df.date<'2014-12-18'].sort_values(['user_id','date'],ascending=False).drop_duplicates('user_id')\n",
    "buy_day=pd.to_datetime('2014-12-18')\n",
    "def daydiff(day):\n",
    "    return (buy_day-day).days\n",
    "later_hot_day['days_to_buyday']=later_hot_day.date.map(daydiff).astype(int)"
   ]
  },
  {
   "cell_type": "code",
   "execution_count": 8,
   "metadata": {
    "collapsed": false
   },
   "outputs": [
    {
     "data": {
      "text/plain": [
       "<matplotlib.axes._subplots.AxesSubplot at 0x20c1479c278>"
      ]
     },
     "execution_count": 8,
     "metadata": {},
     "output_type": "execute_result"
    },
    {
     "data": {
      "image/png": "[encoded data removed]",
      "text/plain": [
       "<matplotlib.figure.Figure at 0x20c0fc91b00>"
      ]
     },
     "metadata": {},
     "output_type": "display_data"
    }
   ],
   "source": [
    "day18_buy_rencently_active_day=day18_positive.merge(later_hot_day,how='left',on=['user_id'],)\n",
    "day18_notbuy_rencently_active_day=day18_negative.merge(later_hot_day,how='left',on=['user_id'])\n",
    "\n",
    "avgerage_rencently_active_day = DataFrame([day18_notbuy_rencently_active_day.days_to_buyday.mean(),day18_buy_rencently_active_day.days_to_buyday.mean()])\n",
    "std_rencently_active_day      = DataFrame([day18_notbuy_rencently_active_day.days_to_buyday.std(),day18_buy_rencently_active_day.days_to_buyday.std()])\n",
    "\n",
    "avgerage_rencently_active_day.index.names = [\"day18_isBuy\"]\n",
    "avgerage_rencently_active_day.plot(yerr=std_rencently_active_day,kind='bar',legend=False)\n"
   ]
  },
  {
   "cell_type": "markdown",
   "metadata": {},
   "source": [
    "### 从以上看出，平均数与方差都相差不大，那么离购买日期最近的活跃日期距离的天数这个指标作用不大\n",
    "----------------------------------------------------------------------\n",
    "### 下面不看最近活跃日期，而看最近的购买日期，看看是否有差别"
   ]
  },
  {
   "cell_type": "code",
   "execution_count": 9,
   "metadata": {
    "collapsed": false,
    "scrolled": false
   },
   "outputs": [
    {
     "data": {
      "text/plain": [
       "<matplotlib.axes._subplots.AxesSubplot at 0x20c0fc8bb00>"
      ]
     },
     "execution_count": 9,
     "metadata": {},
     "output_type": "execute_result"
    },
    {
     "data": {
      "image/png": "[encoded data removed]",
      "text/plain": [
       "<matplotlib.figure.Figure at 0x20c0fc8fb00>"
      ]
     },
     "metadata": {},
     "output_type": "display_data"
    }
   ],
   "source": [
    "later_buy_day=user_df[['user_id','date']][(user_df.date<'2014-12-18')&(user_df.buy>0)].sort_values(['user_id','date'],ascending=False).drop_duplicates('user_id')\n",
    "buy_day=pd.to_datetime('2014-12-18')\n",
    "def daydiff(day):\n",
    "    return (buy_day-day).days\n",
    "later_buy_day['days_to_buyday']=later_buy_day.date.map(daydiff).astype(int)\n",
    "\n",
    "day18_buy_rencently_buy_day=day18_positive.merge(later_buy_day,how='left',on=['user_id'])\n",
    "day18_notbuy_rencently_buy_day=day18_negative.merge(later_buy_day,how='left',on=['user_id'])\n",
    "\n",
    "avgerage_rencently_buy_day = DataFrame([day18_notbuy_rencently_buy_day.days_to_buyday.mean(),day18_buy_rencently_buy_day.days_to_buyday.mean()])\n",
    "std_rencently_buy_day      = DataFrame([day18_notbuy_rencently_buy_day.days_to_buyday.std(),day18_buy_rencently_buy_day.days_to_buyday.std()])\n",
    "\n",
    "avgerage_rencently_buy_day.index.names = [\"day18_isBuy\"]\n",
    "avgerage_rencently_buy_day.plot(yerr=std_rencently_buy_day,kind='bar',legend=False)"
   ]
  },
  {
   "cell_type": "markdown",
   "metadata": {},
   "source": [
    "### 以上可以看出，在18号买了的用户中，会在更短的前几天内有过购买行为，虽然平均数相差在一天内，但是方差达到了2天左右，这个指标波动相对来说比较大，可以作为一个特征使用。\n",
    "---------------------------------------------------------------\n",
    "### 下面进行更细粒度分析，分别从一周内浏览、收藏、加购以及购买四种行为进行分析"
   ]
  },
  {
   "cell_type": "code",
   "execution_count": 29,
   "metadata": {
    "collapsed": false,
    "scrolled": false
   },
   "outputs": [
    {
     "data": {
      "text/plain": [
       "<matplotlib.axes._subplots.AxesSubplot at 0x20c0a5e4d30>"
      ]
     },
     "execution_count": 29,
     "metadata": {},
     "output_type": "execute_result"
    },
    {
     "data": {
      "image/png": "[encoded data removed]",
      "text/plain": [
       "<matplotlib.figure.Figure at 0x20c0817e320>"
      ]
     },
     "metadata": {},
     "output_type": "display_data"
    },
    {
     "data": {
      "image/png": "[encoded data removed]",
      "text/plain": [
       "<matplotlib.figure.Figure at 0x20c09ce4e80>"
      ]
     },
     "metadata": {},
     "output_type": "display_data"
    }
   ],
   "source": [
    "user_detail=user_df[['user_id','view','favor','addcar','buy']][(user_df.date>'2014-12-12')&(user_df.date<'2014-12-18')].groupby('user_id',as_index=False).sum().sort_values(['buy'],ascending=False)\n",
    "\n",
    "day18buy_3days_user_detail=day18_positive.merge(user_detail,how='left',on=['user_id']).fillna(0)\n",
    "day18notbuy_3days_user_detail=day18_negative.merge(user_detail,how='left',on=['user_id']).fillna(0)\n",
    "\n",
    "day18buy_3days_user_detail_average=DataFrame([day18buy_3days_user_detail.view.mean(),day18buy_3days_user_detail.favor.mean(),day18buy_3days_user_detail.addcar.mean(),day18buy_3days_user_detail.buy.mean(),])\n",
    "day18buy_3days_user_detail_std    =DataFrame([day18buy_3days_user_detail.view.std(),day18buy_3days_user_detail.favor.std(),day18buy_3days_user_detail.addcar.std(),day18buy_3days_user_detail.buy.std(),])\n",
    "\n",
    "day18buy_3days_user_detail_average.plot(yerr=day18buy_3days_user_detail_std,kind='bar',legend=False)\n",
    "\n",
    "day18notbuy_3days_user_detail_average=DataFrame([day18notbuy_3days_user_detail.view.mean(),day18notbuy_3days_user_detail.favor.mean(),day18notbuy_3days_user_detail.addcar.mean(),day18notbuy_3days_user_detail.buy.mean(),])\n",
    "day18notbuy_3days_user_detail_std    =DataFrame([day18notbuy_3days_user_detail.view.std(),day18notbuy_3days_user_detail.favor.std(),day18notbuy_3days_user_detail.addcar.std(),day18notbuy_3days_user_detail.buy.std(),])\n",
    "\n",
    "day18notbuy_3days_user_detail_average.plot(yerr=day18notbuy_3days_user_detail_std,kind='bar',legend=False)\n"
   ]
  },
  {
   "cell_type": "markdown",
   "metadata": {},
   "source": [
    "### 两图辨识度不是很高，但是仔细看可以看出，18号购买了的用户在这一周内，活跃度还是要稍微高于18号当天没购买的那些用户的，\n",
    "---------------------------------------\n",
    "### 接着看看转化率上的关系"
   ]
  },
  {
   "cell_type": "code",
   "execution_count": 79,
   "metadata": {
    "collapsed": false,
    "scrolled": false
   },
   "outputs": [
    {
     "data": {
      "text/html": [
       "<div>\n",
       "<table border=\"1\" class=\"dataframe\">\n",
       "  <thead>\n",
       "    <tr style=\"text-align: right;\">\n",
       "      <th></th>\n",
       "      <th>per_buy</th>\n",
       "      <th>per_notbuy</th>\n",
       "    </tr>\n",
       "  </thead>\n",
       "  <tbody>\n",
       "    <tr>\n",
       "      <th>0</th>\n",
       "      <td>0.018823</td>\n",
       "      <td>0.014282</td>\n",
       "    </tr>\n",
       "    <tr>\n",
       "      <th>1</th>\n",
       "      <td>5.390467</td>\n",
       "      <td>3.953673</td>\n",
       "    </tr>\n",
       "    <tr>\n",
       "      <th>2</th>\n",
       "      <td>1.136233</td>\n",
       "      <td>0.957460</td>\n",
       "    </tr>\n",
       "  </tbody>\n",
       "</table>\n",
       "</div>"
      ],
      "text/plain": [
       "    per_buy  per_notbuy\n",
       "0  0.018823    0.014282\n",
       "1  5.390467    3.953673\n",
       "2  1.136233    0.957460"
      ]
     },
     "execution_count": 79,
     "metadata": {},
     "output_type": "execute_result"
    }
   ],
   "source": [
    "user_tranpec_detail=user_df[['user_id','view','favor','addcar','buy']][user_df.date<'2014-12-18'].groupby('user_id',as_index=False).sum().sort_values(['buy'],ascending=False)\n",
    "user_tranpec_detail['tran_view_pec']=user_tranpec_detail['buy']/(user_tranpec_detail['view']+1)\n",
    "user_tranpec_detail['tran_favor_pec']=user_tranpec_detail['buy']/(user_tranpec_detail['favor']+1)\n",
    "user_tranpec_detail['tran_addcar_pec']=user_tranpec_detail['buy']/(user_tranpec_detail['addcar']+1)\n",
    "\n",
    "day18buy_user_tranpec_detail=day18_positive.merge(user_tranpec_detail,how='left',on=['user_id'])\n",
    "day18notbuy_user_tranpec_detail=day18_negative.merge(user_tranpec_detail,how='left',on=['user_id'])\n",
    "\n",
    "day18buy_user_tranpec_average=DataFrame([day18buy_user_tranpec_detail['tran_view_pec'].mean(),day18buy_user_tranpec_detail['tran_favor_pec'].mean(),day18buy_user_tranpec_detail['tran_addcar_pec'].mean()])\n",
    "day18notbuy_user_tranpec_average=DataFrame([day18notbuy_user_tranpec_detail['tran_view_pec'].mean(),day18notbuy_user_tranpec_detail['tran_favor_pec'].mean(),day18notbuy_user_tranpec_detail['tran_addcar_pec'].mean()])\n",
    "\n",
    "day18buy_user_tranpec_average.columns=['per_buy']\n",
    "day18notbuy_user_tranpec_average.columns=['per_notbuy']\n",
    "day18buy_user_tranpec_average.join(day18notbuy_user_tranpec_average)"
   ]
  },
  {
   "cell_type": "markdown",
   "metadata": {},
   "source": [
    "### 从以上平均转化率可以看出，18号买了的用户，浏览、收藏、加购的平均转化率均要高于18号没买的，这是去除了18号当天的数据所得出的数据，可以看出，相当一部分人是属于经常使用淘宝的用户。"
   ]
  },
  {
   "cell_type": "code",
   "execution_count": null,
   "metadata": {
    "collapsed": true
   },
   "outputs": [],
   "source": []
  }
 ],
 "metadata": {
  "anaconda-cloud": {},
  "kernelspec": {
   "display_name": "Python [default]",
   "language": "python",
   "name": "python3"
  },
  "language_info": {
   "codemirror_mode": {
    "name": "ipython",
    "version": 3
   },
   "file_extension": ".py",
   "mimetype": "text/x-python",
   "name": "python",
   "nbconvert_exporter": "python",
   "pygments_lexer": "ipython3",
   "version": "3.5.2"
  }
 },
 "nbformat": 4,
 "nbformat_minor": 1
}
